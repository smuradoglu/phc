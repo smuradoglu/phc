{
 "cells": [
  {
   "cell_type": "markdown",
   "id": "ced8f40c-5567-4400-9a60-2eca184b4864",
   "metadata": {},
   "source": [
    "# Step 1: Preparing the Data"
   ]
  },
  {
   "cell_type": "markdown",
   "id": "103c04ed-acc5-452c-973c-ba9eebfb5912",
   "metadata": {},
   "source": [
    "Please upload the relevant raw file (Files extracted from dictionaries saved with '.txt' extension)"
   ]
  },
  {
   "cell_type": "code",
   "execution_count": 1,
   "id": "0fa787d6-4a10-4d01-8ac0-2f5281be319d",
   "metadata": {},
   "outputs": [],
   "source": [
    "import phonotactic_corpora_analysis1 as corp\n",
    "import ipywidgets as widgets\n",
    "from ipywidgets import FileUpload"
   ]
  },
  {
   "cell_type": "code",
   "execution_count": 2,
   "id": "9b5cbdd6-2739-4528-9a7d-f135dd6294b8",
   "metadata": {},
   "outputs": [
    {
     "data": {
      "application/vnd.jupyter.widget-view+json": {
       "model_id": "14c8df36da86474a9aa1993be852d487",
       "version_major": 2,
       "version_minor": 0
      },
      "text/plain": [
       "RadioButtons(description='Choose a language:', options=(('Warlpiri (wbp)', 'wbp'), ('Warumungu (wrm)', 'wrm'),…"
      ]
     },
     "execution_count": 2,
     "metadata": {},
     "output_type": "execute_result"
    }
   ],
   "source": [
    "w = widgets.RadioButtons(\n",
    "    options=[('Warlpiri (wbp)', 'wbp'), ('Warumungu (wrm)', 'wrm'), ('Pitjantjatjara (ptj)','ptj')],\n",
    "    # rows=10,\n",
    "    description='Choose a language:',\n",
    "    disabled=False\n",
    ")\n",
    "\n",
    "w"
   ]
  },
  {
   "cell_type": "code",
   "execution_count": 3,
   "id": "795f0655-070d-4dd3-af64-d1868259b934",
   "metadata": {},
   "outputs": [
    {
     "data": {
      "application/vnd.jupyter.widget-view+json": {
       "model_id": "3a9752afcaf04a08a58695c8e36ee4ab",
       "version_major": 2,
       "version_minor": 0
      },
      "text/plain": [
       "FileUpload(value=(), description='Upload')"
      ]
     },
     "execution_count": 3,
     "metadata": {},
     "output_type": "execute_result"
    }
   ],
   "source": [
    "m=widgets.FileUpload(\n",
    "accept='',\n",
    "multiple=False\n",
    ")\n",
    "m"
   ]
  },
  {
   "cell_type": "code",
   "execution_count": 5,
   "id": "b63373dd-1a84-4aef-bb30-48b948a82c1a",
   "metadata": {},
   "outputs": [],
   "source": [
    "lang = str(w.value)\n",
    "uploaded_file = m.value[0]\n",
    "file = str(uploaded_file['name'])\n",
    "extracted = corp.extract(file, lang)"
   ]
  },
  {
   "cell_type": "code",
   "execution_count": 6,
   "id": "2ae21422-e573-4233-ab68-af579fc06c78",
   "metadata": {},
   "outputs": [],
   "source": [
    "if lang == 'wbp':\n",
    "    head, pos, gloss = corp.wbp_clean(extracted)\n",
    "elif lang == 'ptj':\n",
    "    head, pos, gloss = corp.ptj_clean(extracted)\n",
    "elif lang == 'wrm':\n",
    "    head0, pos, gloss = corp.wrm_clean(extracted)\n",
    "    #remove notes from headword entries\n",
    "    wrm_check= corp.remove_items(head0, ' <CHECK>')\n",
    "    wrm_check1= corp.remove_items(wrm_check, ' CHECK')\n",
    "    wrm_num1 =  corp.remove_items(wrm_check1, ' 1')\n",
    "    head =  corp.remove_items(wrm_num1, ' 2')"
   ]
  },
  {
   "cell_type": "code",
   "execution_count": 7,
   "id": "1769088e-76e3-4ce1-8054-eb400ddd1a11",
   "metadata": {},
   "outputs": [],
   "source": [
    "corp.write_file(lang,head, pos, gloss)"
   ]
  }
 ],
 "metadata": {
  "kernelspec": {
   "display_name": "Python 3 (ipykernel)",
   "language": "python",
   "name": "python3"
  },
  "language_info": {
   "codemirror_mode": {
    "name": "ipython",
    "version": 3
   },
   "file_extension": ".py",
   "mimetype": "text/x-python",
   "name": "python",
   "nbconvert_exporter": "python",
   "pygments_lexer": "ipython3",
   "version": "3.8.20"
  }
 },
 "nbformat": 4,
 "nbformat_minor": 5
}
